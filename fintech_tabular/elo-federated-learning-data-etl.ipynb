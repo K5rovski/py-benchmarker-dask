{
 "cells": [
  {
   "cell_type": "markdown",
   "metadata": {},
   "source": [
    "<a id=\"top\"></a> <br>\n",
    "## contents\n",
    "1. [Data ETL](#1)\n",
    "1. [Create Vertical Federation](#2)\n",
    "1. [Create Horizontal Federation](#3)"
   ]
  },
  {
   "cell_type": "markdown",
   "metadata": {},
   "source": [
    "<a id=\"1\"></a> <br>\n",
    "## 1- Data ETL\n",
    "\n",
    "###### [Go to top](#top)"
   ]
  },
  {
   "cell_type": "markdown",
   "metadata": {},
   "source": [
    "This notebook was mainly copied from [this notebook](https://www.kaggle.com/code/chauhuynh/my-first-kernel-3-699). All credits belongs to the original author."
   ]
  },
  {
   "cell_type": "code",
   "execution_count": 1,
   "metadata": {
    "_cell_guid": "b1076dfc-b9ad-4769-8c92-a6c4dae69d19",
    "_uuid": "8f2839f25d086af736a60e9eeb907d3b93b6e0e5",
    "execution": {
     "iopub.execute_input": "2022-06-06T12:34:58.774111Z",
     "iopub.status.busy": "2022-06-06T12:34:58.773783Z",
     "iopub.status.idle": "2022-06-06T12:34:58.810552Z",
     "shell.execute_reply": "2022-06-06T12:34:58.809844Z",
     "shell.execute_reply.started": "2022-06-06T12:34:58.774067Z"
    }
   },
   "outputs": [],
   "source": [
    "import numpy as np\n",
    "import pandas as pd\n",
    "import datetime\n",
    "import gc\n",
    "import warnings\n",
    "warnings.filterwarnings('ignore')\n",
    "from tqdm import tqdm_notebook as tqdm\n",
    "\n",
    "import random\n",
    "seed = 1414\n",
    "random.seed(seed)\n",
    "np.random.seed(seed)"
   ]
  },
  {
   "cell_type": "code",
   "execution_count": 2,
   "metadata": {
    "execution": {
     "iopub.execute_input": "2022-06-06T12:34:59.133290Z",
     "iopub.status.busy": "2022-06-06T12:34:59.132623Z",
     "iopub.status.idle": "2022-06-06T12:34:59.897021Z",
     "shell.execute_reply": "2022-06-06T12:34:59.896018Z",
     "shell.execute_reply.started": "2022-06-06T12:34:59.133147Z"
    }
   },
   "outputs": [
    {
     "name": "stdout",
     "output_type": "stream",
     "text": [
      "horizontalsplit-0-0-lower_table.table.csv\r\n"
     ]
    }
   ],
   "source": [
    "! ls /kaggle/input/elofederatedlearningdataetltraintest"
   ]
  },
  {
   "cell_type": "code",
   "execution_count": 3,
   "metadata": {
    "_cell_guid": "79c7e3d0-c299-4dcb-8224-4455121ee9b0",
    "_uuid": "d629ff2d2480ee46fbb7e2d37f6b5fab8052498a",
    "execution": {
     "iopub.execute_input": "2022-06-06T12:34:59.899107Z",
     "iopub.status.busy": "2022-06-06T12:34:59.898744Z",
     "iopub.status.idle": "2022-06-06T12:36:50.913184Z",
     "shell.execute_reply": "2022-06-06T12:36:50.911945Z",
     "shell.execute_reply.started": "2022-06-06T12:34:59.899045Z"
    }
   },
   "outputs": [],
   "source": [
    "df_train = pd.read_csv('../input/elo-merchant-category-recommendation/train.csv')\n",
    "#df_test = pd.read_csv('../input/test.csv')\n",
    "df_hist_trans = pd.read_csv('../input/elo-merchant-category-recommendation/historical_transactions.csv')\n",
    "df_new_merchant_trans = pd.read_csv('../input/elo-merchant-category-recommendation/new_merchant_transactions.csv')"
   ]
  },
  {
   "cell_type": "code",
   "execution_count": 4,
   "metadata": {
    "execution": {
     "iopub.execute_input": "2022-06-06T12:36:50.915259Z",
     "iopub.status.busy": "2022-06-06T12:36:50.914867Z",
     "iopub.status.idle": "2022-06-06T12:36:51.170567Z",
     "shell.execute_reply": "2022-06-06T12:36:51.169495Z",
     "shell.execute_reply.started": "2022-06-06T12:36:50.915185Z"
    }
   },
   "outputs": [],
   "source": [
    "test_df = pd.read_csv('../input/elofederatedlearningdataetltraintest/horizontalsplit-0-0-lower_table.table.csv')\n",
    "test_df['test'] = 1\n",
    "test_df = test_df[['card_id', 'test']]"
   ]
  },
  {
   "cell_type": "code",
   "execution_count": 5,
   "metadata": {
    "_uuid": "71f89a3b8a93b2f2feb2cd0a45f860cde33687be",
    "execution": {
     "iopub.execute_input": "2022-06-06T12:36:51.173304Z",
     "iopub.status.busy": "2022-06-06T12:36:51.172869Z",
     "iopub.status.idle": "2022-06-06T12:36:57.121392Z",
     "shell.execute_reply": "2022-06-06T12:36:57.120016Z",
     "shell.execute_reply.started": "2022-06-06T12:36:51.173258Z"
    }
   },
   "outputs": [],
   "source": [
    "for df in [df_hist_trans,df_new_merchant_trans]:\n",
    "    df['category_2'].fillna(1.0,inplace=True)\n",
    "    df['category_3'].fillna('A',inplace=True)\n",
    "    df['merchant_id'].fillna('M_ID_00a6ca8a8a',inplace=True)"
   ]
  },
  {
   "cell_type": "code",
   "execution_count": 6,
   "metadata": {
    "execution": {
     "iopub.execute_input": "2022-06-06T12:36:57.124262Z",
     "iopub.status.busy": "2022-06-06T12:36:57.123791Z",
     "iopub.status.idle": "2022-06-06T12:36:57.161478Z",
     "shell.execute_reply": "2022-06-06T12:36:57.160346Z",
     "shell.execute_reply.started": "2022-06-06T12:36:57.124215Z"
    }
   },
   "outputs": [
    {
     "data": {
      "text/plain": [
       "0    199710\n",
       "1      2207\n",
       "Name: outliers, dtype: int64"
      ]
     },
     "execution_count": 6,
     "metadata": {},
     "output_type": "execute_result"
    }
   ],
   "source": [
    "df_train['outliers'] = 0\n",
    "df_train.loc[df_train['target'] < -30, 'outliers'] = 1\n",
    "df_train['outliers'].value_counts()"
   ]
  },
  {
   "cell_type": "code",
   "execution_count": 7,
   "metadata": {
    "execution": {
     "iopub.execute_input": "2022-06-06T12:36:57.163541Z",
     "iopub.status.busy": "2022-06-06T12:36:57.163233Z",
     "iopub.status.idle": "2022-06-06T12:36:57.172453Z",
     "shell.execute_reply": "2022-06-06T12:36:57.171781Z",
     "shell.execute_reply.started": "2022-06-06T12:36:57.163489Z"
    }
   },
   "outputs": [],
   "source": [
    "extra_train = df_train[df_train['outliers'] == 1]"
   ]
  },
  {
   "cell_type": "code",
   "execution_count": 8,
   "metadata": {
    "execution": {
     "iopub.execute_input": "2022-06-06T12:36:57.174059Z",
     "iopub.status.busy": "2022-06-06T12:36:57.173642Z",
     "iopub.status.idle": "2022-06-06T12:36:57.193230Z",
     "shell.execute_reply": "2022-06-06T12:36:57.192133Z",
     "shell.execute_reply.started": "2022-06-06T12:36:57.174001Z"
    }
   },
   "outputs": [],
   "source": [
    "df_train = df_train[df_train['outliers'] != 1]"
   ]
  },
  {
   "cell_type": "code",
   "execution_count": 9,
   "metadata": {
    "execution": {
     "iopub.execute_input": "2022-06-06T12:36:57.194845Z",
     "iopub.status.busy": "2022-06-06T12:36:57.194549Z",
     "iopub.status.idle": "2022-06-06T12:36:57.200150Z",
     "shell.execute_reply": "2022-06-06T12:36:57.199307Z",
     "shell.execute_reply.started": "2022-06-06T12:36:57.194777Z"
    }
   },
   "outputs": [
    {
     "data": {
      "text/plain": [
       "(2207, 7)"
      ]
     },
     "execution_count": 9,
     "metadata": {},
     "output_type": "execute_result"
    }
   ],
   "source": [
    "extra_train.shape"
   ]
  },
  {
   "cell_type": "code",
   "execution_count": 10,
   "metadata": {
    "execution": {
     "iopub.execute_input": "2022-06-06T12:36:57.201773Z",
     "iopub.status.busy": "2022-06-06T12:36:57.201527Z",
     "iopub.status.idle": "2022-06-06T12:36:57.213061Z",
     "shell.execute_reply": "2022-06-06T12:36:57.211741Z",
     "shell.execute_reply.started": "2022-06-06T12:36:57.201723Z"
    }
   },
   "outputs": [
    {
     "data": {
      "text/plain": [
       "(199710, 7)"
      ]
     },
     "execution_count": 10,
     "metadata": {},
     "output_type": "execute_result"
    }
   ],
   "source": [
    "df_train.shape"
   ]
  },
  {
   "cell_type": "code",
   "execution_count": 11,
   "metadata": {
    "_uuid": "dda90662d05e22310dd713df106ea07f4b8bccfc",
    "execution": {
     "iopub.execute_input": "2022-06-06T12:36:57.215035Z",
     "iopub.status.busy": "2022-06-06T12:36:57.214482Z",
     "iopub.status.idle": "2022-06-06T12:36:57.224248Z",
     "shell.execute_reply": "2022-06-06T12:36:57.223615Z",
     "shell.execute_reply.started": "2022-06-06T12:36:57.214975Z"
    }
   },
   "outputs": [],
   "source": [
    "def get_new_columns(name,aggs):\n",
    "    return [name + '_' + k + '_' + agg for k in aggs.keys() for agg in aggs[k]]"
   ]
  },
  {
   "cell_type": "code",
   "execution_count": 12,
   "metadata": {
    "_uuid": "690ba01a38f524e9345b419200f588f937bc067a",
    "execution": {
     "iopub.execute_input": "2022-06-06T12:36:57.226010Z",
     "iopub.status.busy": "2022-06-06T12:36:57.225504Z",
     "iopub.status.idle": "2022-06-06T12:37:42.763666Z",
     "shell.execute_reply": "2022-06-06T12:37:42.762320Z",
     "shell.execute_reply.started": "2022-06-06T12:36:57.225952Z"
    }
   },
   "outputs": [],
   "source": [
    "for df in [df_hist_trans,df_new_merchant_trans]:\n",
    "    df['purchase_date'] = pd.to_datetime(df['purchase_date'])\n",
    "    df['year'] = df['purchase_date'].dt.year\n",
    "    df['weekofyear'] = df['purchase_date'].dt.weekofyear\n",
    "    df['month'] = df['purchase_date'].dt.month\n",
    "    df['dayofweek'] = df['purchase_date'].dt.dayofweek\n",
    "    df['weekend'] = (df.purchase_date.dt.weekday >=5).astype(int)\n",
    "    df['hour'] = df['purchase_date'].dt.hour\n",
    "    df['authorized_flag'] = df['authorized_flag'].map({'Y':1, 'N':0})\n",
    "    df['category_1'] = df['category_1'].map({'Y':1, 'N':0}) \n",
    "    #https://www.kaggle.com/c/elo-merchant-category-recommendation/discussion/73244\n",
    "    df['month_diff'] = ((datetime.datetime.today() - df['purchase_date']).dt.days)//30\n",
    "    df['month_diff'] += df['month_lag']"
   ]
  },
  {
   "cell_type": "code",
   "execution_count": 13,
   "metadata": {
    "_uuid": "ddf1d5bb0ade2b22b0f072c208c1506ea64503ea",
    "execution": {
     "iopub.execute_input": "2022-06-06T12:37:42.765570Z",
     "iopub.status.busy": "2022-06-06T12:37:42.765298Z",
     "iopub.status.idle": "2022-06-06T12:44:16.892227Z",
     "shell.execute_reply": "2022-06-06T12:44:16.890984Z",
     "shell.execute_reply.started": "2022-06-06T12:37:42.765524Z"
    }
   },
   "outputs": [
    {
     "data": {
      "text/plain": [
       "14"
      ]
     },
     "execution_count": 13,
     "metadata": {},
     "output_type": "execute_result"
    }
   ],
   "source": [
    "aggs = {}\n",
    "for col in ['month','hour','weekofyear','dayofweek','year','subsector_id','merchant_id','merchant_category_id']:\n",
    "    aggs[col] = ['nunique']\n",
    "\n",
    "aggs['purchase_amount'] = ['sum','max','min','mean','var']\n",
    "aggs['installments'] = ['sum','max','min','mean','var']\n",
    "aggs['purchase_date'] = ['max','min']\n",
    "aggs['month_lag'] = ['max','min','mean','var']\n",
    "aggs['month_diff'] = ['mean']\n",
    "aggs['authorized_flag'] = ['sum', 'mean']\n",
    "aggs['weekend'] = ['sum', 'mean']\n",
    "aggs['category_1'] = ['sum', 'mean']\n",
    "aggs['card_id'] = ['size']\n",
    "\n",
    "for col in ['category_2','category_3']:\n",
    "    df_hist_trans[col+'_mean'] = df_hist_trans.groupby([col])['purchase_amount'].transform('mean')\n",
    "    aggs[col+'_mean'] = ['mean']    \n",
    "\n",
    "new_columns = get_new_columns('hist',aggs)\n",
    "df_hist_trans_group = df_hist_trans.groupby('card_id').agg(aggs)\n",
    "df_hist_trans_group.columns = new_columns\n",
    "df_hist_trans_group.reset_index(drop=False,inplace=True)\n",
    "df_hist_trans_group['hist_purchase_date_diff'] = (df_hist_trans_group['hist_purchase_date_max'] - df_hist_trans_group['hist_purchase_date_min']).dt.days\n",
    "df_hist_trans_group['hist_purchase_date_average'] = df_hist_trans_group['hist_purchase_date_diff']/df_hist_trans_group['hist_card_id_size']\n",
    "df_hist_trans_group['hist_purchase_date_uptonow'] = (datetime.datetime.today() - df_hist_trans_group['hist_purchase_date_max']).dt.days\n",
    "df_train = df_train.merge(df_hist_trans_group,on='card_id',how='left')\n",
    "#df_test = df_test.merge(df_hist_trans_group,on='card_id',how='left')\n",
    "del df_hist_trans_group;gc.collect()"
   ]
  },
  {
   "cell_type": "code",
   "execution_count": 14,
   "metadata": {
    "_uuid": "f7f5625db40db4395374991124fb796c9decd60b",
    "execution": {
     "iopub.execute_input": "2022-06-06T12:44:16.893942Z",
     "iopub.status.busy": "2022-06-06T12:44:16.893662Z",
     "iopub.status.idle": "2022-06-06T12:44:39.238872Z",
     "shell.execute_reply": "2022-06-06T12:44:39.238223Z",
     "shell.execute_reply.started": "2022-06-06T12:44:16.893894Z"
    }
   },
   "outputs": [
    {
     "data": {
      "text/plain": [
       "147"
      ]
     },
     "execution_count": 14,
     "metadata": {},
     "output_type": "execute_result"
    }
   ],
   "source": [
    "aggs = {}\n",
    "for col in ['month','hour','weekofyear','dayofweek','year','subsector_id','merchant_id','merchant_category_id']:\n",
    "    aggs[col] = ['nunique']\n",
    "aggs['purchase_amount'] = ['sum','max','min','mean','var']\n",
    "aggs['installments'] = ['sum','max','min','mean','var']\n",
    "aggs['purchase_date'] = ['max','min']\n",
    "aggs['month_lag'] = ['max','min','mean','var']\n",
    "aggs['month_diff'] = ['mean']\n",
    "aggs['weekend'] = ['sum', 'mean']\n",
    "aggs['category_1'] = ['sum', 'mean']\n",
    "aggs['card_id'] = ['size']\n",
    "\n",
    "for col in ['category_2','category_3']:\n",
    "    df_new_merchant_trans[col+'_mean'] = df_new_merchant_trans.groupby([col])['purchase_amount'].transform('mean')\n",
    "    aggs[col+'_mean'] = ['mean']\n",
    "    \n",
    "new_columns = get_new_columns('new_hist',aggs)\n",
    "df_hist_trans_group = df_new_merchant_trans.groupby('card_id').agg(aggs)\n",
    "df_hist_trans_group.columns = new_columns\n",
    "df_hist_trans_group.reset_index(drop=False,inplace=True)\n",
    "df_hist_trans_group['new_hist_purchase_date_diff'] = (df_hist_trans_group['new_hist_purchase_date_max'] - df_hist_trans_group['new_hist_purchase_date_min']).dt.days\n",
    "df_hist_trans_group['new_hist_purchase_date_average'] = df_hist_trans_group['new_hist_purchase_date_diff']/df_hist_trans_group['new_hist_card_id_size']\n",
    "df_hist_trans_group['new_hist_purchase_date_uptonow'] = (datetime.datetime.today() - df_hist_trans_group['new_hist_purchase_date_max']).dt.days\n",
    "df_train = df_train.merge(df_hist_trans_group,on='card_id',how='left')\n",
    "#df_test = df_test.merge(df_hist_trans_group,on='card_id',how='left')\n",
    "del df_hist_trans_group;gc.collect()"
   ]
  },
  {
   "cell_type": "code",
   "execution_count": 15,
   "metadata": {
    "_uuid": "a075cc90ab1322829e4fad3ff39fce307c5db93c",
    "execution": {
     "iopub.execute_input": "2022-06-06T12:44:39.240177Z",
     "iopub.status.busy": "2022-06-06T12:44:39.239798Z",
     "iopub.status.idle": "2022-06-06T12:44:40.319287Z",
     "shell.execute_reply": "2022-06-06T12:44:40.318420Z",
     "shell.execute_reply.started": "2022-06-06T12:44:39.240139Z"
    }
   },
   "outputs": [
    {
     "data": {
      "text/html": [
       "<div>\n",
       "<style scoped>\n",
       "    .dataframe tbody tr th:only-of-type {\n",
       "        vertical-align: middle;\n",
       "    }\n",
       "\n",
       "    .dataframe tbody tr th {\n",
       "        vertical-align: top;\n",
       "    }\n",
       "\n",
       "    .dataframe thead th {\n",
       "        text-align: right;\n",
       "    }\n",
       "</style>\n",
       "<table border=\"1\" class=\"dataframe\">\n",
       "  <thead>\n",
       "    <tr style=\"text-align: right;\">\n",
       "      <th></th>\n",
       "      <th>first_active_month</th>\n",
       "      <th>card_id</th>\n",
       "      <th>feature_1</th>\n",
       "      <th>feature_2</th>\n",
       "      <th>feature_3</th>\n",
       "      <th>target</th>\n",
       "      <th>outliers</th>\n",
       "      <th>hist_month_nunique</th>\n",
       "      <th>hist_hour_nunique</th>\n",
       "      <th>hist_weekofyear_nunique</th>\n",
       "      <th>hist_dayofweek_nunique</th>\n",
       "      <th>hist_year_nunique</th>\n",
       "      <th>hist_subsector_id_nunique</th>\n",
       "      <th>hist_merchant_id_nunique</th>\n",
       "      <th>hist_merchant_category_id_nunique</th>\n",
       "      <th>hist_purchase_amount_sum</th>\n",
       "      <th>hist_purchase_amount_max</th>\n",
       "      <th>hist_purchase_amount_min</th>\n",
       "      <th>hist_purchase_amount_mean</th>\n",
       "      <th>hist_purchase_amount_var</th>\n",
       "      <th>hist_installments_sum</th>\n",
       "      <th>hist_installments_max</th>\n",
       "      <th>hist_installments_min</th>\n",
       "      <th>hist_installments_mean</th>\n",
       "      <th>hist_installments_var</th>\n",
       "      <th>hist_purchase_date_max</th>\n",
       "      <th>hist_purchase_date_min</th>\n",
       "      <th>hist_month_lag_max</th>\n",
       "      <th>hist_month_lag_min</th>\n",
       "      <th>hist_month_lag_mean</th>\n",
       "      <th>hist_month_lag_var</th>\n",
       "      <th>hist_month_diff_mean</th>\n",
       "      <th>hist_authorized_flag_sum</th>\n",
       "      <th>hist_authorized_flag_mean</th>\n",
       "      <th>hist_weekend_sum</th>\n",
       "      <th>hist_weekend_mean</th>\n",
       "      <th>hist_category_1_sum</th>\n",
       "      <th>hist_category_1_mean</th>\n",
       "      <th>hist_card_id_size</th>\n",
       "      <th>hist_category_2_mean_mean</th>\n",
       "      <th>hist_category_3_mean_mean</th>\n",
       "      <th>hist_purchase_date_diff</th>\n",
       "      <th>hist_purchase_date_average</th>\n",
       "      <th>hist_purchase_date_uptonow</th>\n",
       "      <th>new_hist_month_nunique</th>\n",
       "      <th>new_hist_hour_nunique</th>\n",
       "      <th>new_hist_weekofyear_nunique</th>\n",
       "      <th>new_hist_dayofweek_nunique</th>\n",
       "      <th>new_hist_year_nunique</th>\n",
       "      <th>new_hist_subsector_id_nunique</th>\n",
       "      <th>new_hist_merchant_id_nunique</th>\n",
       "      <th>new_hist_merchant_category_id_nunique</th>\n",
       "      <th>new_hist_purchase_amount_sum</th>\n",
       "      <th>new_hist_purchase_amount_max</th>\n",
       "      <th>new_hist_purchase_amount_min</th>\n",
       "      <th>new_hist_purchase_amount_mean</th>\n",
       "      <th>new_hist_purchase_amount_var</th>\n",
       "      <th>new_hist_installments_sum</th>\n",
       "      <th>new_hist_installments_max</th>\n",
       "      <th>new_hist_installments_min</th>\n",
       "      <th>new_hist_installments_mean</th>\n",
       "      <th>new_hist_installments_var</th>\n",
       "      <th>new_hist_purchase_date_max</th>\n",
       "      <th>new_hist_purchase_date_min</th>\n",
       "      <th>new_hist_month_lag_max</th>\n",
       "      <th>new_hist_month_lag_min</th>\n",
       "      <th>new_hist_month_lag_mean</th>\n",
       "      <th>new_hist_month_lag_var</th>\n",
       "      <th>new_hist_month_diff_mean</th>\n",
       "      <th>new_hist_weekend_sum</th>\n",
       "      <th>new_hist_weekend_mean</th>\n",
       "      <th>new_hist_category_1_sum</th>\n",
       "      <th>new_hist_category_1_mean</th>\n",
       "      <th>new_hist_card_id_size</th>\n",
       "      <th>new_hist_category_2_mean_mean</th>\n",
       "      <th>new_hist_category_3_mean_mean</th>\n",
       "      <th>new_hist_purchase_date_diff</th>\n",
       "      <th>new_hist_purchase_date_average</th>\n",
       "      <th>new_hist_purchase_date_uptonow</th>\n",
       "    </tr>\n",
       "  </thead>\n",
       "  <tbody>\n",
       "    <tr>\n",
       "      <th>0</th>\n",
       "      <td>2017-06</td>\n",
       "      <td>C_ID_92a2005557</td>\n",
       "      <td>5</td>\n",
       "      <td>2</td>\n",
       "      <td>1</td>\n",
       "      <td>-0.820283</td>\n",
       "      <td>0</td>\n",
       "      <td>9</td>\n",
       "      <td>23</td>\n",
       "      <td>35</td>\n",
       "      <td>7</td>\n",
       "      <td>2</td>\n",
       "      <td>21</td>\n",
       "      <td>94</td>\n",
       "      <td>41</td>\n",
       "      <td>-165.968739</td>\n",
       "      <td>2.258395</td>\n",
       "      <td>-0.739395</td>\n",
       "      <td>-0.638341</td>\n",
       "      <td>0.045003</td>\n",
       "      <td>4</td>\n",
       "      <td>1</td>\n",
       "      <td>0</td>\n",
       "      <td>0.015385</td>\n",
       "      <td>0.015206</td>\n",
       "      <td>2018-02-25 09:31:15</td>\n",
       "      <td>2017-06-27 14:18:08</td>\n",
       "      <td>0</td>\n",
       "      <td>-8</td>\n",
       "      <td>-3.911538</td>\n",
       "      <td>5.748901</td>\n",
       "      <td>51.950000</td>\n",
       "      <td>247</td>\n",
       "      <td>0.950000</td>\n",
       "      <td>90</td>\n",
       "      <td>0.346154</td>\n",
       "      <td>0</td>\n",
       "      <td>0.000000</td>\n",
       "      <td>260</td>\n",
       "      <td>0.072502</td>\n",
       "      <td>0.346719</td>\n",
       "      <td>242</td>\n",
       "      <td>0.930769</td>\n",
       "      <td>1562</td>\n",
       "      <td>2.0</td>\n",
       "      <td>8.0</td>\n",
       "      <td>7.0</td>\n",
       "      <td>7.0</td>\n",
       "      <td>1.0</td>\n",
       "      <td>10.0</td>\n",
       "      <td>23.0</td>\n",
       "      <td>14.0</td>\n",
       "      <td>-13.244202</td>\n",
       "      <td>-0.296112</td>\n",
       "      <td>-0.724368</td>\n",
       "      <td>-0.575835</td>\n",
       "      <td>0.018445</td>\n",
       "      <td>0.0</td>\n",
       "      <td>0.0</td>\n",
       "      <td>0.0</td>\n",
       "      <td>0.000000</td>\n",
       "      <td>0.000000</td>\n",
       "      <td>2018-04-29 11:23:05</td>\n",
       "      <td>2018-03-05 14:04:36</td>\n",
       "      <td>2.0</td>\n",
       "      <td>1.0</td>\n",
       "      <td>1.478261</td>\n",
       "      <td>0.260870</td>\n",
       "      <td>51.782609</td>\n",
       "      <td>6.0</td>\n",
       "      <td>0.260870</td>\n",
       "      <td>0.0</td>\n",
       "      <td>0.000000</td>\n",
       "      <td>23.0</td>\n",
       "      <td>-0.550160</td>\n",
       "      <td>-0.592993</td>\n",
       "      <td>54.0</td>\n",
       "      <td>2.347826</td>\n",
       "      <td>1499.0</td>\n",
       "    </tr>\n",
       "    <tr>\n",
       "      <th>1</th>\n",
       "      <td>2017-01</td>\n",
       "      <td>C_ID_3d0044924f</td>\n",
       "      <td>4</td>\n",
       "      <td>1</td>\n",
       "      <td>0</td>\n",
       "      <td>0.392913</td>\n",
       "      <td>0</td>\n",
       "      <td>12</td>\n",
       "      <td>24</td>\n",
       "      <td>50</td>\n",
       "      <td>7</td>\n",
       "      <td>2</td>\n",
       "      <td>24</td>\n",
       "      <td>142</td>\n",
       "      <td>57</td>\n",
       "      <td>-210.006336</td>\n",
       "      <td>4.630299</td>\n",
       "      <td>-0.742400</td>\n",
       "      <td>-0.600018</td>\n",
       "      <td>0.148200</td>\n",
       "      <td>543</td>\n",
       "      <td>10</td>\n",
       "      <td>-1</td>\n",
       "      <td>1.551429</td>\n",
       "      <td>2.282448</td>\n",
       "      <td>2018-01-31 22:31:09</td>\n",
       "      <td>2017-01-06 16:29:42</td>\n",
       "      <td>0</td>\n",
       "      <td>-12</td>\n",
       "      <td>-5.031429</td>\n",
       "      <td>14.477519</td>\n",
       "      <td>53.000000</td>\n",
       "      <td>339</td>\n",
       "      <td>0.968571</td>\n",
       "      <td>132</td>\n",
       "      <td>0.377143</td>\n",
       "      <td>31</td>\n",
       "      <td>0.088571</td>\n",
       "      <td>350</td>\n",
       "      <td>0.074568</td>\n",
       "      <td>-0.295163</td>\n",
       "      <td>390</td>\n",
       "      <td>1.114286</td>\n",
       "      <td>1586</td>\n",
       "      <td>2.0</td>\n",
       "      <td>5.0</td>\n",
       "      <td>4.0</td>\n",
       "      <td>4.0</td>\n",
       "      <td>1.0</td>\n",
       "      <td>4.0</td>\n",
       "      <td>6.0</td>\n",
       "      <td>5.0</td>\n",
       "      <td>-4.355735</td>\n",
       "      <td>-0.701858</td>\n",
       "      <td>-0.739410</td>\n",
       "      <td>-0.725956</td>\n",
       "      <td>0.000205</td>\n",
       "      <td>6.0</td>\n",
       "      <td>1.0</td>\n",
       "      <td>1.0</td>\n",
       "      <td>1.000000</td>\n",
       "      <td>0.000000</td>\n",
       "      <td>2018-03-30 06:48:26</td>\n",
       "      <td>2018-02-01 17:07:54</td>\n",
       "      <td>2.0</td>\n",
       "      <td>1.0</td>\n",
       "      <td>1.500000</td>\n",
       "      <td>0.300000</td>\n",
       "      <td>52.833333</td>\n",
       "      <td>0.0</td>\n",
       "      <td>0.000000</td>\n",
       "      <td>0.0</td>\n",
       "      <td>0.000000</td>\n",
       "      <td>6.0</td>\n",
       "      <td>-0.550160</td>\n",
       "      <td>-0.606486</td>\n",
       "      <td>56.0</td>\n",
       "      <td>9.333333</td>\n",
       "      <td>1529.0</td>\n",
       "    </tr>\n",
       "    <tr>\n",
       "      <th>2</th>\n",
       "      <td>2016-08</td>\n",
       "      <td>C_ID_d639edf6cd</td>\n",
       "      <td>2</td>\n",
       "      <td>2</td>\n",
       "      <td>0</td>\n",
       "      <td>0.688056</td>\n",
       "      <td>0</td>\n",
       "      <td>10</td>\n",
       "      <td>14</td>\n",
       "      <td>22</td>\n",
       "      <td>7</td>\n",
       "      <td>2</td>\n",
       "      <td>7</td>\n",
       "      <td>13</td>\n",
       "      <td>8</td>\n",
       "      <td>-29.167391</td>\n",
       "      <td>-0.145847</td>\n",
       "      <td>-0.730138</td>\n",
       "      <td>-0.678311</td>\n",
       "      <td>0.007635</td>\n",
       "      <td>0</td>\n",
       "      <td>0</td>\n",
       "      <td>0</td>\n",
       "      <td>0.000000</td>\n",
       "      <td>0.000000</td>\n",
       "      <td>2018-02-27 19:08:25</td>\n",
       "      <td>2017-01-11 08:21:22</td>\n",
       "      <td>0</td>\n",
       "      <td>-13</td>\n",
       "      <td>-8.604651</td>\n",
       "      <td>14.768549</td>\n",
       "      <td>52.000000</td>\n",
       "      <td>41</td>\n",
       "      <td>0.953488</td>\n",
       "      <td>11</td>\n",
       "      <td>0.255814</td>\n",
       "      <td>0</td>\n",
       "      <td>0.000000</td>\n",
       "      <td>43</td>\n",
       "      <td>-0.087803</td>\n",
       "      <td>0.358458</td>\n",
       "      <td>412</td>\n",
       "      <td>9.581395</td>\n",
       "      <td>1559</td>\n",
       "      <td>1.0</td>\n",
       "      <td>1.0</td>\n",
       "      <td>1.0</td>\n",
       "      <td>1.0</td>\n",
       "      <td>1.0</td>\n",
       "      <td>1.0</td>\n",
       "      <td>1.0</td>\n",
       "      <td>1.0</td>\n",
       "      <td>-0.700326</td>\n",
       "      <td>-0.700326</td>\n",
       "      <td>-0.700326</td>\n",
       "      <td>-0.700326</td>\n",
       "      <td>NaN</td>\n",
       "      <td>0.0</td>\n",
       "      <td>0.0</td>\n",
       "      <td>0.0</td>\n",
       "      <td>0.000000</td>\n",
       "      <td>NaN</td>\n",
       "      <td>2018-04-28 17:43:11</td>\n",
       "      <td>2018-04-28 17:43:11</td>\n",
       "      <td>2.0</td>\n",
       "      <td>2.0</td>\n",
       "      <td>2.000000</td>\n",
       "      <td>NaN</td>\n",
       "      <td>51.000000</td>\n",
       "      <td>1.0</td>\n",
       "      <td>1.000000</td>\n",
       "      <td>0.0</td>\n",
       "      <td>0.000000</td>\n",
       "      <td>1.0</td>\n",
       "      <td>-0.549015</td>\n",
       "      <td>-0.592993</td>\n",
       "      <td>0.0</td>\n",
       "      <td>0.000000</td>\n",
       "      <td>1499.0</td>\n",
       "    </tr>\n",
       "    <tr>\n",
       "      <th>3</th>\n",
       "      <td>2017-09</td>\n",
       "      <td>C_ID_186d6a6901</td>\n",
       "      <td>4</td>\n",
       "      <td>3</td>\n",
       "      <td>0</td>\n",
       "      <td>0.142495</td>\n",
       "      <td>0</td>\n",
       "      <td>6</td>\n",
       "      <td>16</td>\n",
       "      <td>20</td>\n",
       "      <td>7</td>\n",
       "      <td>2</td>\n",
       "      <td>13</td>\n",
       "      <td>50</td>\n",
       "      <td>25</td>\n",
       "      <td>-49.491364</td>\n",
       "      <td>1.445596</td>\n",
       "      <td>-0.740897</td>\n",
       "      <td>-0.642745</td>\n",
       "      <td>0.068447</td>\n",
       "      <td>84</td>\n",
       "      <td>3</td>\n",
       "      <td>-1</td>\n",
       "      <td>1.090909</td>\n",
       "      <td>0.346890</td>\n",
       "      <td>2018-02-28 11:44:40</td>\n",
       "      <td>2017-09-26 16:22:21</td>\n",
       "      <td>0</td>\n",
       "      <td>-5</td>\n",
       "      <td>-2.831169</td>\n",
       "      <td>3.247437</td>\n",
       "      <td>51.935065</td>\n",
       "      <td>77</td>\n",
       "      <td>1.000000</td>\n",
       "      <td>11</td>\n",
       "      <td>0.142857</td>\n",
       "      <td>12</td>\n",
       "      <td>0.155844</td>\n",
       "      <td>77</td>\n",
       "      <td>-0.086166</td>\n",
       "      <td>-0.338321</td>\n",
       "      <td>154</td>\n",
       "      <td>2.000000</td>\n",
       "      <td>1559</td>\n",
       "      <td>2.0</td>\n",
       "      <td>5.0</td>\n",
       "      <td>5.0</td>\n",
       "      <td>4.0</td>\n",
       "      <td>1.0</td>\n",
       "      <td>5.0</td>\n",
       "      <td>7.0</td>\n",
       "      <td>6.0</td>\n",
       "      <td>-4.654372</td>\n",
       "      <td>-0.566740</td>\n",
       "      <td>-0.734135</td>\n",
       "      <td>-0.664910</td>\n",
       "      <td>0.004340</td>\n",
       "      <td>5.0</td>\n",
       "      <td>1.0</td>\n",
       "      <td>-1.0</td>\n",
       "      <td>0.714286</td>\n",
       "      <td>0.571429</td>\n",
       "      <td>2018-04-18 11:00:11</td>\n",
       "      <td>2018-03-07 11:55:06</td>\n",
       "      <td>2.0</td>\n",
       "      <td>1.0</td>\n",
       "      <td>1.714286</td>\n",
       "      <td>0.238095</td>\n",
       "      <td>52.000000</td>\n",
       "      <td>3.0</td>\n",
       "      <td>0.428571</td>\n",
       "      <td>1.0</td>\n",
       "      <td>0.142857</td>\n",
       "      <td>7.0</td>\n",
       "      <td>-0.556518</td>\n",
       "      <td>-0.604559</td>\n",
       "      <td>41.0</td>\n",
       "      <td>5.857143</td>\n",
       "      <td>1510.0</td>\n",
       "    </tr>\n",
       "    <tr>\n",
       "      <th>4</th>\n",
       "      <td>2017-11</td>\n",
       "      <td>C_ID_cdbd2c0db2</td>\n",
       "      <td>1</td>\n",
       "      <td>3</td>\n",
       "      <td>0</td>\n",
       "      <td>-0.159749</td>\n",
       "      <td>0</td>\n",
       "      <td>4</td>\n",
       "      <td>22</td>\n",
       "      <td>17</td>\n",
       "      <td>7</td>\n",
       "      <td>2</td>\n",
       "      <td>17</td>\n",
       "      <td>66</td>\n",
       "      <td>26</td>\n",
       "      <td>-48.687656</td>\n",
       "      <td>7.193041</td>\n",
       "      <td>-0.746156</td>\n",
       "      <td>-0.366073</td>\n",
       "      <td>1.828160</td>\n",
       "      <td>182</td>\n",
       "      <td>12</td>\n",
       "      <td>1</td>\n",
       "      <td>1.368421</td>\n",
       "      <td>3.598086</td>\n",
       "      <td>2018-02-28 20:40:41</td>\n",
       "      <td>2017-11-12 00:00:00</td>\n",
       "      <td>0</td>\n",
       "      <td>-3</td>\n",
       "      <td>-1.285714</td>\n",
       "      <td>1.054113</td>\n",
       "      <td>51.894737</td>\n",
       "      <td>128</td>\n",
       "      <td>0.962406</td>\n",
       "      <td>42</td>\n",
       "      <td>0.315789</td>\n",
       "      <td>15</td>\n",
       "      <td>0.112782</td>\n",
       "      <td>133</td>\n",
       "      <td>-0.114647</td>\n",
       "      <td>-0.377684</td>\n",
       "      <td>108</td>\n",
       "      <td>0.812030</td>\n",
       "      <td>1558</td>\n",
       "      <td>2.0</td>\n",
       "      <td>14.0</td>\n",
       "      <td>8.0</td>\n",
       "      <td>7.0</td>\n",
       "      <td>1.0</td>\n",
       "      <td>10.0</td>\n",
       "      <td>36.0</td>\n",
       "      <td>17.0</td>\n",
       "      <td>-19.926237</td>\n",
       "      <td>0.450886</td>\n",
       "      <td>-0.739395</td>\n",
       "      <td>-0.553507</td>\n",
       "      <td>0.050096</td>\n",
       "      <td>35.0</td>\n",
       "      <td>2.0</td>\n",
       "      <td>-1.0</td>\n",
       "      <td>0.972222</td>\n",
       "      <td>0.142063</td>\n",
       "      <td>2018-04-28 18:50:25</td>\n",
       "      <td>2018-03-02 11:55:43</td>\n",
       "      <td>2.0</td>\n",
       "      <td>1.0</td>\n",
       "      <td>1.555556</td>\n",
       "      <td>0.253968</td>\n",
       "      <td>51.888889</td>\n",
       "      <td>12.0</td>\n",
       "      <td>0.333333</td>\n",
       "      <td>2.0</td>\n",
       "      <td>0.055556</td>\n",
       "      <td>36.0</td>\n",
       "      <td>-0.555446</td>\n",
       "      <td>-0.588217</td>\n",
       "      <td>57.0</td>\n",
       "      <td>1.583333</td>\n",
       "      <td>1499.0</td>\n",
       "    </tr>\n",
       "  </tbody>\n",
       "</table>\n",
       "</div>"
      ],
      "text/plain": [
       "  first_active_month              ...               new_hist_purchase_date_uptonow\n",
       "0            2017-06              ...                                       1499.0\n",
       "1            2017-01              ...                                       1529.0\n",
       "2            2016-08              ...                                       1499.0\n",
       "3            2017-09              ...                                       1510.0\n",
       "4            2017-11              ...                                       1499.0\n",
       "\n",
       "[5 rows x 79 columns]"
      ]
     },
     "execution_count": 15,
     "metadata": {},
     "output_type": "execute_result"
    }
   ],
   "source": [
    "del df_hist_trans;gc.collect()\n",
    "del df_new_merchant_trans;gc.collect()\n",
    "df_train.head(5)"
   ]
  },
  {
   "cell_type": "code",
   "execution_count": 16,
   "metadata": {
    "execution": {
     "iopub.execute_input": "2022-06-06T12:44:40.322478Z",
     "iopub.status.busy": "2022-06-06T12:44:40.321950Z",
     "iopub.status.idle": "2022-06-06T12:44:40.328422Z",
     "shell.execute_reply": "2022-06-06T12:44:40.327566Z",
     "shell.execute_reply.started": "2022-06-06T12:44:40.322415Z"
    }
   },
   "outputs": [
    {
     "data": {
      "text/plain": [
       "(199710, 79)"
      ]
     },
     "execution_count": 16,
     "metadata": {},
     "output_type": "execute_result"
    }
   ],
   "source": [
    "df_train.shape"
   ]
  },
  {
   "cell_type": "code",
   "execution_count": 17,
   "metadata": {
    "_uuid": "ce2082fc1fb0e3f8f7d27fc166aa7a8351b65504",
    "execution": {
     "iopub.execute_input": "2022-06-06T12:44:40.330837Z",
     "iopub.status.busy": "2022-06-06T12:44:40.330221Z",
     "iopub.status.idle": "2022-06-06T12:44:40.614974Z",
     "shell.execute_reply": "2022-06-06T12:44:40.614093Z",
     "shell.execute_reply.started": "2022-06-06T12:44:40.330758Z"
    }
   },
   "outputs": [],
   "source": [
    "for df in [df_train]:\n",
    "    df['first_active_month'] = pd.to_datetime(df['first_active_month'])\n",
    "    df['dayofweek'] = df['first_active_month'].dt.dayofweek\n",
    "    df['weekofyear'] = df['first_active_month'].dt.weekofyear\n",
    "    df['month'] = df['first_active_month'].dt.month\n",
    "    df['elapsed_time'] = (datetime.datetime.today() - df['first_active_month']).dt.days\n",
    "    df['hist_first_buy'] = (df['hist_purchase_date_min'] - df['first_active_month']).dt.days\n",
    "    df['new_hist_first_buy'] = (df['new_hist_purchase_date_min'] - df['first_active_month']).dt.days\n",
    "    for f in ['hist_purchase_date_max','hist_purchase_date_min','new_hist_purchase_date_max',\\\n",
    "                     'new_hist_purchase_date_min']:\n",
    "        df[f] = df[f].astype(np.int64) * 1e-9\n",
    "    df['card_id_total'] = df['new_hist_card_id_size']+df['hist_card_id_size']\n",
    "    df['purchase_amount_total'] = df['new_hist_purchase_amount_sum']+df['hist_purchase_amount_sum']"
   ]
  },
  {
   "cell_type": "code",
   "execution_count": 18,
   "metadata": {
    "_uuid": "c4f20f27679889542acfd60d1f1ac381b201ac43",
    "execution": {
     "iopub.execute_input": "2022-06-06T12:44:40.617122Z",
     "iopub.status.busy": "2022-06-06T12:44:40.616746Z",
     "iopub.status.idle": "2022-06-06T12:44:40.747487Z",
     "shell.execute_reply": "2022-06-06T12:44:40.746582Z",
     "shell.execute_reply.started": "2022-06-06T12:44:40.617046Z"
    }
   },
   "outputs": [],
   "source": [
    "df_train_columns = [c for c in df_train.columns if c not in ['first_active_month', 'outliers']]\n",
    "df_train = df_train[df_train_columns]"
   ]
  },
  {
   "cell_type": "code",
   "execution_count": 19,
   "metadata": {
    "execution": {
     "iopub.execute_input": "2022-06-06T12:44:40.749029Z",
     "iopub.status.busy": "2022-06-06T12:44:40.748725Z",
     "iopub.status.idle": "2022-06-06T12:44:40.754471Z",
     "shell.execute_reply": "2022-06-06T12:44:40.753636Z",
     "shell.execute_reply.started": "2022-06-06T12:44:40.748973Z"
    }
   },
   "outputs": [
    {
     "data": {
      "text/plain": [
       "(199710, 85)"
      ]
     },
     "execution_count": 19,
     "metadata": {},
     "output_type": "execute_result"
    }
   ],
   "source": [
    "df_train.shape"
   ]
  },
  {
   "cell_type": "code",
   "execution_count": 20,
   "metadata": {
    "execution": {
     "iopub.execute_input": "2022-06-06T12:44:40.755919Z",
     "iopub.status.busy": "2022-06-06T12:44:40.755638Z",
     "iopub.status.idle": "2022-06-06T12:44:41.258391Z",
     "shell.execute_reply": "2022-06-06T12:44:41.257494Z",
     "shell.execute_reply.started": "2022-06-06T12:44:40.755868Z"
    }
   },
   "outputs": [],
   "source": [
    "df_train = df_train.merge(test_df,on='card_id',how='left')"
   ]
  },
  {
   "cell_type": "code",
   "execution_count": 21,
   "metadata": {
    "execution": {
     "iopub.execute_input": "2022-06-06T12:44:41.259917Z",
     "iopub.status.busy": "2022-06-06T12:44:41.259627Z",
     "iopub.status.idle": "2022-06-06T12:44:41.268809Z",
     "shell.execute_reply": "2022-06-06T12:44:41.268106Z",
     "shell.execute_reply.started": "2022-06-06T12:44:41.259861Z"
    }
   },
   "outputs": [
    {
     "data": {
      "text/plain": [
       "1.0    19971\n",
       "Name: test, dtype: int64"
      ]
     },
     "execution_count": 21,
     "metadata": {},
     "output_type": "execute_result"
    }
   ],
   "source": [
    "df_train['test'].value_counts()"
   ]
  },
  {
   "cell_type": "code",
   "execution_count": 22,
   "metadata": {
    "execution": {
     "iopub.execute_input": "2022-06-06T12:44:41.270374Z",
     "iopub.status.busy": "2022-06-06T12:44:41.270122Z",
     "iopub.status.idle": "2022-06-06T12:44:41.279555Z",
     "shell.execute_reply": "2022-06-06T12:44:41.278720Z",
     "shell.execute_reply.started": "2022-06-06T12:44:41.270325Z"
    }
   },
   "outputs": [
    {
     "data": {
      "text/plain": [
       "(199710, 86)"
      ]
     },
     "execution_count": 22,
     "metadata": {},
     "output_type": "execute_result"
    }
   ],
   "source": [
    "df_train.shape"
   ]
  },
  {
   "cell_type": "code",
   "execution_count": 23,
   "metadata": {
    "execution": {
     "iopub.execute_input": "2022-06-06T12:44:41.281028Z",
     "iopub.status.busy": "2022-06-06T12:44:41.280734Z",
     "iopub.status.idle": "2022-06-06T12:44:41.459105Z",
     "shell.execute_reply": "2022-06-06T12:44:41.457900Z",
     "shell.execute_reply.started": "2022-06-06T12:44:41.280978Z"
    }
   },
   "outputs": [
    {
     "data": {
      "text/html": [
       "<div>\n",
       "<style scoped>\n",
       "    .dataframe tbody tr th:only-of-type {\n",
       "        vertical-align: middle;\n",
       "    }\n",
       "\n",
       "    .dataframe tbody tr th {\n",
       "        vertical-align: top;\n",
       "    }\n",
       "\n",
       "    .dataframe thead th {\n",
       "        text-align: right;\n",
       "    }\n",
       "</style>\n",
       "<table border=\"1\" class=\"dataframe\">\n",
       "  <thead>\n",
       "    <tr style=\"text-align: right;\">\n",
       "      <th></th>\n",
       "      <th>card_id</th>\n",
       "      <th>feature_1</th>\n",
       "      <th>feature_2</th>\n",
       "      <th>feature_3</th>\n",
       "      <th>target</th>\n",
       "      <th>hist_month_nunique</th>\n",
       "      <th>hist_hour_nunique</th>\n",
       "      <th>hist_weekofyear_nunique</th>\n",
       "      <th>hist_dayofweek_nunique</th>\n",
       "      <th>hist_year_nunique</th>\n",
       "      <th>hist_subsector_id_nunique</th>\n",
       "      <th>hist_merchant_id_nunique</th>\n",
       "      <th>hist_merchant_category_id_nunique</th>\n",
       "      <th>hist_purchase_amount_sum</th>\n",
       "      <th>hist_purchase_amount_max</th>\n",
       "      <th>hist_purchase_amount_min</th>\n",
       "      <th>hist_purchase_amount_mean</th>\n",
       "      <th>hist_purchase_amount_var</th>\n",
       "      <th>hist_installments_sum</th>\n",
       "      <th>hist_installments_max</th>\n",
       "      <th>hist_installments_min</th>\n",
       "      <th>hist_installments_mean</th>\n",
       "      <th>hist_installments_var</th>\n",
       "      <th>hist_purchase_date_max</th>\n",
       "      <th>hist_purchase_date_min</th>\n",
       "      <th>hist_month_lag_max</th>\n",
       "      <th>hist_month_lag_min</th>\n",
       "      <th>hist_month_lag_mean</th>\n",
       "      <th>hist_month_lag_var</th>\n",
       "      <th>hist_month_diff_mean</th>\n",
       "      <th>hist_authorized_flag_sum</th>\n",
       "      <th>hist_authorized_flag_mean</th>\n",
       "      <th>hist_weekend_sum</th>\n",
       "      <th>hist_weekend_mean</th>\n",
       "      <th>hist_category_1_sum</th>\n",
       "      <th>hist_category_1_mean</th>\n",
       "      <th>hist_card_id_size</th>\n",
       "      <th>hist_category_2_mean_mean</th>\n",
       "      <th>hist_category_3_mean_mean</th>\n",
       "      <th>hist_purchase_date_diff</th>\n",
       "      <th>...</th>\n",
       "      <th>new_hist_year_nunique</th>\n",
       "      <th>new_hist_subsector_id_nunique</th>\n",
       "      <th>new_hist_merchant_id_nunique</th>\n",
       "      <th>new_hist_merchant_category_id_nunique</th>\n",
       "      <th>new_hist_purchase_amount_sum</th>\n",
       "      <th>new_hist_purchase_amount_max</th>\n",
       "      <th>new_hist_purchase_amount_min</th>\n",
       "      <th>new_hist_purchase_amount_mean</th>\n",
       "      <th>new_hist_purchase_amount_var</th>\n",
       "      <th>new_hist_installments_sum</th>\n",
       "      <th>new_hist_installments_max</th>\n",
       "      <th>new_hist_installments_min</th>\n",
       "      <th>new_hist_installments_mean</th>\n",
       "      <th>new_hist_installments_var</th>\n",
       "      <th>new_hist_purchase_date_max</th>\n",
       "      <th>new_hist_purchase_date_min</th>\n",
       "      <th>new_hist_month_lag_max</th>\n",
       "      <th>new_hist_month_lag_min</th>\n",
       "      <th>new_hist_month_lag_mean</th>\n",
       "      <th>new_hist_month_lag_var</th>\n",
       "      <th>new_hist_month_diff_mean</th>\n",
       "      <th>new_hist_weekend_sum</th>\n",
       "      <th>new_hist_weekend_mean</th>\n",
       "      <th>new_hist_category_1_sum</th>\n",
       "      <th>new_hist_category_1_mean</th>\n",
       "      <th>new_hist_card_id_size</th>\n",
       "      <th>new_hist_category_2_mean_mean</th>\n",
       "      <th>new_hist_category_3_mean_mean</th>\n",
       "      <th>new_hist_purchase_date_diff</th>\n",
       "      <th>new_hist_purchase_date_average</th>\n",
       "      <th>new_hist_purchase_date_uptonow</th>\n",
       "      <th>dayofweek</th>\n",
       "      <th>weekofyear</th>\n",
       "      <th>month</th>\n",
       "      <th>elapsed_time</th>\n",
       "      <th>hist_first_buy</th>\n",
       "      <th>new_hist_first_buy</th>\n",
       "      <th>card_id_total</th>\n",
       "      <th>purchase_amount_total</th>\n",
       "      <th>test</th>\n",
       "    </tr>\n",
       "  </thead>\n",
       "  <tbody>\n",
       "    <tr>\n",
       "      <th>0</th>\n",
       "      <td>C_ID_92a2005557</td>\n",
       "      <td>5</td>\n",
       "      <td>2</td>\n",
       "      <td>1</td>\n",
       "      <td>-0.820283</td>\n",
       "      <td>9</td>\n",
       "      <td>23</td>\n",
       "      <td>35</td>\n",
       "      <td>7</td>\n",
       "      <td>2</td>\n",
       "      <td>21</td>\n",
       "      <td>94</td>\n",
       "      <td>41</td>\n",
       "      <td>-165.968739</td>\n",
       "      <td>2.258395</td>\n",
       "      <td>-0.739395</td>\n",
       "      <td>-0.638341</td>\n",
       "      <td>0.045003</td>\n",
       "      <td>4</td>\n",
       "      <td>1</td>\n",
       "      <td>0</td>\n",
       "      <td>0.015385</td>\n",
       "      <td>0.015206</td>\n",
       "      <td>1.519551e+09</td>\n",
       "      <td>1.498573e+09</td>\n",
       "      <td>0</td>\n",
       "      <td>-8</td>\n",
       "      <td>-3.911538</td>\n",
       "      <td>5.748901</td>\n",
       "      <td>51.950000</td>\n",
       "      <td>247</td>\n",
       "      <td>0.950000</td>\n",
       "      <td>90</td>\n",
       "      <td>0.346154</td>\n",
       "      <td>0</td>\n",
       "      <td>0.000000</td>\n",
       "      <td>260</td>\n",
       "      <td>0.072502</td>\n",
       "      <td>0.346719</td>\n",
       "      <td>242</td>\n",
       "      <td>...</td>\n",
       "      <td>1.0</td>\n",
       "      <td>10.0</td>\n",
       "      <td>23.0</td>\n",
       "      <td>14.0</td>\n",
       "      <td>-13.244202</td>\n",
       "      <td>-0.296112</td>\n",
       "      <td>-0.724368</td>\n",
       "      <td>-0.575835</td>\n",
       "      <td>0.018445</td>\n",
       "      <td>0.0</td>\n",
       "      <td>0.0</td>\n",
       "      <td>0.0</td>\n",
       "      <td>0.000000</td>\n",
       "      <td>0.000000</td>\n",
       "      <td>1.525001e+09</td>\n",
       "      <td>1.520259e+09</td>\n",
       "      <td>2.0</td>\n",
       "      <td>1.0</td>\n",
       "      <td>1.478261</td>\n",
       "      <td>0.260870</td>\n",
       "      <td>51.782609</td>\n",
       "      <td>6.0</td>\n",
       "      <td>0.260870</td>\n",
       "      <td>0.0</td>\n",
       "      <td>0.000000</td>\n",
       "      <td>23.0</td>\n",
       "      <td>-0.550160</td>\n",
       "      <td>-0.592993</td>\n",
       "      <td>54.0</td>\n",
       "      <td>2.347826</td>\n",
       "      <td>1499.0</td>\n",
       "      <td>3</td>\n",
       "      <td>22</td>\n",
       "      <td>6</td>\n",
       "      <td>1831</td>\n",
       "      <td>26</td>\n",
       "      <td>277.0</td>\n",
       "      <td>283.0</td>\n",
       "      <td>-179.212942</td>\n",
       "      <td>NaN</td>\n",
       "    </tr>\n",
       "    <tr>\n",
       "      <th>1</th>\n",
       "      <td>C_ID_3d0044924f</td>\n",
       "      <td>4</td>\n",
       "      <td>1</td>\n",
       "      <td>0</td>\n",
       "      <td>0.392913</td>\n",
       "      <td>12</td>\n",
       "      <td>24</td>\n",
       "      <td>50</td>\n",
       "      <td>7</td>\n",
       "      <td>2</td>\n",
       "      <td>24</td>\n",
       "      <td>142</td>\n",
       "      <td>57</td>\n",
       "      <td>-210.006336</td>\n",
       "      <td>4.630299</td>\n",
       "      <td>-0.742400</td>\n",
       "      <td>-0.600018</td>\n",
       "      <td>0.148200</td>\n",
       "      <td>543</td>\n",
       "      <td>10</td>\n",
       "      <td>-1</td>\n",
       "      <td>1.551429</td>\n",
       "      <td>2.282448</td>\n",
       "      <td>1.517438e+09</td>\n",
       "      <td>1.483720e+09</td>\n",
       "      <td>0</td>\n",
       "      <td>-12</td>\n",
       "      <td>-5.031429</td>\n",
       "      <td>14.477519</td>\n",
       "      <td>53.000000</td>\n",
       "      <td>339</td>\n",
       "      <td>0.968571</td>\n",
       "      <td>132</td>\n",
       "      <td>0.377143</td>\n",
       "      <td>31</td>\n",
       "      <td>0.088571</td>\n",
       "      <td>350</td>\n",
       "      <td>0.074568</td>\n",
       "      <td>-0.295163</td>\n",
       "      <td>390</td>\n",
       "      <td>...</td>\n",
       "      <td>1.0</td>\n",
       "      <td>4.0</td>\n",
       "      <td>6.0</td>\n",
       "      <td>5.0</td>\n",
       "      <td>-4.355735</td>\n",
       "      <td>-0.701858</td>\n",
       "      <td>-0.739410</td>\n",
       "      <td>-0.725956</td>\n",
       "      <td>0.000205</td>\n",
       "      <td>6.0</td>\n",
       "      <td>1.0</td>\n",
       "      <td>1.0</td>\n",
       "      <td>1.000000</td>\n",
       "      <td>0.000000</td>\n",
       "      <td>1.522393e+09</td>\n",
       "      <td>1.517505e+09</td>\n",
       "      <td>2.0</td>\n",
       "      <td>1.0</td>\n",
       "      <td>1.500000</td>\n",
       "      <td>0.300000</td>\n",
       "      <td>52.833333</td>\n",
       "      <td>0.0</td>\n",
       "      <td>0.000000</td>\n",
       "      <td>0.0</td>\n",
       "      <td>0.000000</td>\n",
       "      <td>6.0</td>\n",
       "      <td>-0.550160</td>\n",
       "      <td>-0.606486</td>\n",
       "      <td>56.0</td>\n",
       "      <td>9.333333</td>\n",
       "      <td>1529.0</td>\n",
       "      <td>6</td>\n",
       "      <td>52</td>\n",
       "      <td>1</td>\n",
       "      <td>1982</td>\n",
       "      <td>5</td>\n",
       "      <td>396.0</td>\n",
       "      <td>356.0</td>\n",
       "      <td>-214.362071</td>\n",
       "      <td>NaN</td>\n",
       "    </tr>\n",
       "    <tr>\n",
       "      <th>2</th>\n",
       "      <td>C_ID_d639edf6cd</td>\n",
       "      <td>2</td>\n",
       "      <td>2</td>\n",
       "      <td>0</td>\n",
       "      <td>0.688056</td>\n",
       "      <td>10</td>\n",
       "      <td>14</td>\n",
       "      <td>22</td>\n",
       "      <td>7</td>\n",
       "      <td>2</td>\n",
       "      <td>7</td>\n",
       "      <td>13</td>\n",
       "      <td>8</td>\n",
       "      <td>-29.167391</td>\n",
       "      <td>-0.145847</td>\n",
       "      <td>-0.730138</td>\n",
       "      <td>-0.678311</td>\n",
       "      <td>0.007635</td>\n",
       "      <td>0</td>\n",
       "      <td>0</td>\n",
       "      <td>0</td>\n",
       "      <td>0.000000</td>\n",
       "      <td>0.000000</td>\n",
       "      <td>1.519759e+09</td>\n",
       "      <td>1.484123e+09</td>\n",
       "      <td>0</td>\n",
       "      <td>-13</td>\n",
       "      <td>-8.604651</td>\n",
       "      <td>14.768549</td>\n",
       "      <td>52.000000</td>\n",
       "      <td>41</td>\n",
       "      <td>0.953488</td>\n",
       "      <td>11</td>\n",
       "      <td>0.255814</td>\n",
       "      <td>0</td>\n",
       "      <td>0.000000</td>\n",
       "      <td>43</td>\n",
       "      <td>-0.087803</td>\n",
       "      <td>0.358458</td>\n",
       "      <td>412</td>\n",
       "      <td>...</td>\n",
       "      <td>1.0</td>\n",
       "      <td>1.0</td>\n",
       "      <td>1.0</td>\n",
       "      <td>1.0</td>\n",
       "      <td>-0.700326</td>\n",
       "      <td>-0.700326</td>\n",
       "      <td>-0.700326</td>\n",
       "      <td>-0.700326</td>\n",
       "      <td>NaN</td>\n",
       "      <td>0.0</td>\n",
       "      <td>0.0</td>\n",
       "      <td>0.0</td>\n",
       "      <td>0.000000</td>\n",
       "      <td>NaN</td>\n",
       "      <td>1.524937e+09</td>\n",
       "      <td>1.524937e+09</td>\n",
       "      <td>2.0</td>\n",
       "      <td>2.0</td>\n",
       "      <td>2.000000</td>\n",
       "      <td>NaN</td>\n",
       "      <td>51.000000</td>\n",
       "      <td>1.0</td>\n",
       "      <td>1.000000</td>\n",
       "      <td>0.0</td>\n",
       "      <td>0.000000</td>\n",
       "      <td>1.0</td>\n",
       "      <td>-0.549015</td>\n",
       "      <td>-0.592993</td>\n",
       "      <td>0.0</td>\n",
       "      <td>0.000000</td>\n",
       "      <td>1499.0</td>\n",
       "      <td>0</td>\n",
       "      <td>31</td>\n",
       "      <td>8</td>\n",
       "      <td>2135</td>\n",
       "      <td>163</td>\n",
       "      <td>635.0</td>\n",
       "      <td>44.0</td>\n",
       "      <td>-29.867717</td>\n",
       "      <td>NaN</td>\n",
       "    </tr>\n",
       "    <tr>\n",
       "      <th>3</th>\n",
       "      <td>C_ID_186d6a6901</td>\n",
       "      <td>4</td>\n",
       "      <td>3</td>\n",
       "      <td>0</td>\n",
       "      <td>0.142495</td>\n",
       "      <td>6</td>\n",
       "      <td>16</td>\n",
       "      <td>20</td>\n",
       "      <td>7</td>\n",
       "      <td>2</td>\n",
       "      <td>13</td>\n",
       "      <td>50</td>\n",
       "      <td>25</td>\n",
       "      <td>-49.491364</td>\n",
       "      <td>1.445596</td>\n",
       "      <td>-0.740897</td>\n",
       "      <td>-0.642745</td>\n",
       "      <td>0.068447</td>\n",
       "      <td>84</td>\n",
       "      <td>3</td>\n",
       "      <td>-1</td>\n",
       "      <td>1.090909</td>\n",
       "      <td>0.346890</td>\n",
       "      <td>1.519818e+09</td>\n",
       "      <td>1.506443e+09</td>\n",
       "      <td>0</td>\n",
       "      <td>-5</td>\n",
       "      <td>-2.831169</td>\n",
       "      <td>3.247437</td>\n",
       "      <td>51.935065</td>\n",
       "      <td>77</td>\n",
       "      <td>1.000000</td>\n",
       "      <td>11</td>\n",
       "      <td>0.142857</td>\n",
       "      <td>12</td>\n",
       "      <td>0.155844</td>\n",
       "      <td>77</td>\n",
       "      <td>-0.086166</td>\n",
       "      <td>-0.338321</td>\n",
       "      <td>154</td>\n",
       "      <td>...</td>\n",
       "      <td>1.0</td>\n",
       "      <td>5.0</td>\n",
       "      <td>7.0</td>\n",
       "      <td>6.0</td>\n",
       "      <td>-4.654372</td>\n",
       "      <td>-0.566740</td>\n",
       "      <td>-0.734135</td>\n",
       "      <td>-0.664910</td>\n",
       "      <td>0.004340</td>\n",
       "      <td>5.0</td>\n",
       "      <td>1.0</td>\n",
       "      <td>-1.0</td>\n",
       "      <td>0.714286</td>\n",
       "      <td>0.571429</td>\n",
       "      <td>1.524049e+09</td>\n",
       "      <td>1.520424e+09</td>\n",
       "      <td>2.0</td>\n",
       "      <td>1.0</td>\n",
       "      <td>1.714286</td>\n",
       "      <td>0.238095</td>\n",
       "      <td>52.000000</td>\n",
       "      <td>3.0</td>\n",
       "      <td>0.428571</td>\n",
       "      <td>1.0</td>\n",
       "      <td>0.142857</td>\n",
       "      <td>7.0</td>\n",
       "      <td>-0.556518</td>\n",
       "      <td>-0.604559</td>\n",
       "      <td>41.0</td>\n",
       "      <td>5.857143</td>\n",
       "      <td>1510.0</td>\n",
       "      <td>4</td>\n",
       "      <td>35</td>\n",
       "      <td>9</td>\n",
       "      <td>1739</td>\n",
       "      <td>25</td>\n",
       "      <td>187.0</td>\n",
       "      <td>84.0</td>\n",
       "      <td>-54.145736</td>\n",
       "      <td>NaN</td>\n",
       "    </tr>\n",
       "    <tr>\n",
       "      <th>4</th>\n",
       "      <td>C_ID_cdbd2c0db2</td>\n",
       "      <td>1</td>\n",
       "      <td>3</td>\n",
       "      <td>0</td>\n",
       "      <td>-0.159749</td>\n",
       "      <td>4</td>\n",
       "      <td>22</td>\n",
       "      <td>17</td>\n",
       "      <td>7</td>\n",
       "      <td>2</td>\n",
       "      <td>17</td>\n",
       "      <td>66</td>\n",
       "      <td>26</td>\n",
       "      <td>-48.687656</td>\n",
       "      <td>7.193041</td>\n",
       "      <td>-0.746156</td>\n",
       "      <td>-0.366073</td>\n",
       "      <td>1.828160</td>\n",
       "      <td>182</td>\n",
       "      <td>12</td>\n",
       "      <td>1</td>\n",
       "      <td>1.368421</td>\n",
       "      <td>3.598086</td>\n",
       "      <td>1.519850e+09</td>\n",
       "      <td>1.510445e+09</td>\n",
       "      <td>0</td>\n",
       "      <td>-3</td>\n",
       "      <td>-1.285714</td>\n",
       "      <td>1.054113</td>\n",
       "      <td>51.894737</td>\n",
       "      <td>128</td>\n",
       "      <td>0.962406</td>\n",
       "      <td>42</td>\n",
       "      <td>0.315789</td>\n",
       "      <td>15</td>\n",
       "      <td>0.112782</td>\n",
       "      <td>133</td>\n",
       "      <td>-0.114647</td>\n",
       "      <td>-0.377684</td>\n",
       "      <td>108</td>\n",
       "      <td>...</td>\n",
       "      <td>1.0</td>\n",
       "      <td>10.0</td>\n",
       "      <td>36.0</td>\n",
       "      <td>17.0</td>\n",
       "      <td>-19.926237</td>\n",
       "      <td>0.450886</td>\n",
       "      <td>-0.739395</td>\n",
       "      <td>-0.553507</td>\n",
       "      <td>0.050096</td>\n",
       "      <td>35.0</td>\n",
       "      <td>2.0</td>\n",
       "      <td>-1.0</td>\n",
       "      <td>0.972222</td>\n",
       "      <td>0.142063</td>\n",
       "      <td>1.524941e+09</td>\n",
       "      <td>1.519992e+09</td>\n",
       "      <td>2.0</td>\n",
       "      <td>1.0</td>\n",
       "      <td>1.555556</td>\n",
       "      <td>0.253968</td>\n",
       "      <td>51.888889</td>\n",
       "      <td>12.0</td>\n",
       "      <td>0.333333</td>\n",
       "      <td>2.0</td>\n",
       "      <td>0.055556</td>\n",
       "      <td>36.0</td>\n",
       "      <td>-0.555446</td>\n",
       "      <td>-0.588217</td>\n",
       "      <td>57.0</td>\n",
       "      <td>1.583333</td>\n",
       "      <td>1499.0</td>\n",
       "      <td>2</td>\n",
       "      <td>44</td>\n",
       "      <td>11</td>\n",
       "      <td>1678</td>\n",
       "      <td>11</td>\n",
       "      <td>121.0</td>\n",
       "      <td>169.0</td>\n",
       "      <td>-68.613893</td>\n",
       "      <td>NaN</td>\n",
       "    </tr>\n",
       "  </tbody>\n",
       "</table>\n",
       "</div>"
      ],
      "text/plain": [
       "           card_id  feature_1  ...   purchase_amount_total  test\n",
       "0  C_ID_92a2005557          5  ...             -179.212942   NaN\n",
       "1  C_ID_3d0044924f          4  ...             -214.362071   NaN\n",
       "2  C_ID_d639edf6cd          2  ...              -29.867717   NaN\n",
       "3  C_ID_186d6a6901          4  ...              -54.145736   NaN\n",
       "4  C_ID_cdbd2c0db2          1  ...              -68.613893   NaN\n",
       "\n",
       "[5 rows x 86 columns]"
      ]
     },
     "execution_count": 23,
     "metadata": {},
     "output_type": "execute_result"
    }
   ],
   "source": [
    "df_train.head()"
   ]
  },
  {
   "cell_type": "code",
   "execution_count": 24,
   "metadata": {
    "execution": {
     "iopub.execute_input": "2022-06-06T12:44:41.460891Z",
     "iopub.status.busy": "2022-06-06T12:44:41.460612Z",
     "iopub.status.idle": "2022-06-06T12:45:13.218537Z",
     "shell.execute_reply": "2022-06-06T12:45:13.217181Z",
     "shell.execute_reply.started": "2022-06-06T12:44:41.460836Z"
    }
   },
   "outputs": [],
   "source": [
    "df_train.to_csv('elo-ETL-data.csv')"
   ]
  },
  {
   "cell_type": "code",
   "execution_count": 25,
   "metadata": {
    "execution": {
     "iopub.execute_input": "2022-06-06T12:45:13.220990Z",
     "iopub.status.busy": "2022-06-06T12:45:13.220577Z",
     "iopub.status.idle": "2022-06-06T12:45:44.322464Z",
     "shell.execute_reply": "2022-06-06T12:45:44.321290Z",
     "shell.execute_reply.started": "2022-06-06T12:45:13.220909Z"
    }
   },
   "outputs": [],
   "source": [
    "df_train[df_train['test']==1].drop(['test'],axis=1).to_csv('elo-ETL-data-test.csv')\n",
    "df_train[df_train['test']!=1].drop(['test'],axis=1).to_csv('elo-ETL-data-train.csv')"
   ]
  },
  {
   "cell_type": "markdown",
   "metadata": {},
   "source": [
    "<a id=\"2\"></a> <br>\n",
    "## 2- Create Vertical Federation\n",
    "\n",
    "###### [Go to top](#top)"
   ]
  },
  {
   "cell_type": "code",
   "execution_count": 26,
   "metadata": {
    "execution": {
     "iopub.execute_input": "2022-06-06T12:45:44.324483Z",
     "iopub.status.busy": "2022-06-06T12:45:44.324077Z",
     "iopub.status.idle": "2022-06-06T12:45:44.331565Z",
     "shell.execute_reply": "2022-06-06T12:45:44.330440Z",
     "shell.execute_reply.started": "2022-06-06T12:45:44.324315Z"
    }
   },
   "outputs": [
    {
     "data": {
      "text/plain": [
       "50"
      ]
     },
     "execution_count": 26,
     "metadata": {},
     "output_type": "execute_result"
    }
   ],
   "source": [
    "df_train_columns_without_id = [c for c in df_train.columns if c not in ['card_id','target','test']]\n",
    "round(len(df_train_columns_without_id)*0.6)"
   ]
  },
  {
   "cell_type": "code",
   "execution_count": 27,
   "metadata": {
    "execution": {
     "iopub.execute_input": "2022-06-06T12:45:44.333641Z",
     "iopub.status.busy": "2022-06-06T12:45:44.333268Z",
     "iopub.status.idle": "2022-06-06T12:45:44.345617Z",
     "shell.execute_reply": "2022-06-06T12:45:44.344641Z",
     "shell.execute_reply.started": "2022-06-06T12:45:44.333561Z"
    }
   },
   "outputs": [
    {
     "name": "stdout",
     "output_type": "stream",
     "text": [
      "['hist_installments_max', 'hist_month_lag_var', 'hist_purchase_amount_sum', 'new_hist_month_lag_max', 'hist_merchant_category_id_nunique', 'hist_authorized_flag_mean', 'new_hist_installments_var', 'new_hist_merchant_id_nunique', 'new_hist_year_nunique', 'new_hist_month_lag_min', 'hist_subsector_id_nunique', 'new_hist_merchant_category_id_nunique', 'feature_1', 'hist_purchase_amount_var', 'hist_category_1_mean', 'hist_hour_nunique', 'feature_2', 'new_hist_category_3_mean_mean', 'hist_purchase_date_average', 'new_hist_weekend_sum', 'hist_installments_min', 'hist_weekend_sum', 'hist_first_buy', 'new_hist_category_2_mean_mean', 'new_hist_purchase_date_average', 'hist_purchase_amount_max', 'new_hist_weekofyear_nunique', 'new_hist_purchase_date_diff', 'hist_purchase_date_diff', 'hist_month_lag_min', 'hist_purchase_date_uptonow', 'weekofyear', 'new_hist_card_id_size', 'hist_weekofyear_nunique', 'new_hist_purchase_amount_max', 'hist_card_id_size', 'hist_merchant_id_nunique', 'card_id_total', 'new_hist_purchase_amount_var', 'feature_3', 'new_hist_weekend_mean', 'new_hist_hour_nunique', 'new_hist_purchase_amount_mean', 'elapsed_time', 'hist_month_lag_max', 'hist_month_nunique', 'new_hist_category_1_sum', 'new_hist_purchase_amount_sum', 'new_hist_purchase_date_uptonow', 'new_hist_installments_max', 'card_id', 'test']\n"
     ]
    }
   ],
   "source": [
    "df_train_columns_60 = random.sample(df_train_columns_without_id, round(len(df_train_columns_without_id)*0.6))\n",
    "df_train_columns_40 = [c for c in df_train.columns if c not in df_train_columns_60]\n",
    "df_train_columns_60 = df_train_columns_60 + ['card_id', 'test']\n",
    "print(df_train_columns_60)"
   ]
  },
  {
   "cell_type": "code",
   "execution_count": 28,
   "metadata": {
    "execution": {
     "iopub.execute_input": "2022-06-06T12:45:44.347197Z",
     "iopub.status.busy": "2022-06-06T12:45:44.346840Z",
     "iopub.status.idle": "2022-06-06T12:45:44.357269Z",
     "shell.execute_reply": "2022-06-06T12:45:44.356593Z",
     "shell.execute_reply.started": "2022-06-06T12:45:44.347159Z"
    }
   },
   "outputs": [
    {
     "name": "stdout",
     "output_type": "stream",
     "text": [
      "['card_id', 'target', 'hist_dayofweek_nunique', 'hist_year_nunique', 'hist_purchase_amount_min', 'hist_purchase_amount_mean', 'hist_installments_sum', 'hist_installments_mean', 'hist_installments_var', 'hist_purchase_date_max', 'hist_purchase_date_min', 'hist_month_lag_mean', 'hist_month_diff_mean', 'hist_authorized_flag_sum', 'hist_weekend_mean', 'hist_category_1_sum', 'hist_category_2_mean_mean', 'hist_category_3_mean_mean', 'new_hist_month_nunique', 'new_hist_dayofweek_nunique', 'new_hist_subsector_id_nunique', 'new_hist_purchase_amount_min', 'new_hist_installments_sum', 'new_hist_installments_min', 'new_hist_installments_mean', 'new_hist_purchase_date_max', 'new_hist_purchase_date_min', 'new_hist_month_lag_mean', 'new_hist_month_lag_var', 'new_hist_month_diff_mean', 'new_hist_category_1_mean', 'dayofweek', 'month', 'new_hist_first_buy', 'purchase_amount_total', 'test']\n"
     ]
    }
   ],
   "source": [
    "print(df_train_columns_40)"
   ]
  },
  {
   "cell_type": "code",
   "execution_count": 29,
   "metadata": {
    "execution": {
     "iopub.execute_input": "2022-06-06T12:45:44.358587Z",
     "iopub.status.busy": "2022-06-06T12:45:44.358211Z",
     "iopub.status.idle": "2022-06-06T12:45:44.399450Z",
     "shell.execute_reply": "2022-06-06T12:45:44.398700Z",
     "shell.execute_reply.started": "2022-06-06T12:45:44.358549Z"
    }
   },
   "outputs": [
    {
     "data": {
      "text/plain": [
       "(199710, 52)"
      ]
     },
     "execution_count": 29,
     "metadata": {},
     "output_type": "execute_result"
    }
   ],
   "source": [
    "df_train[df_train_columns_60].shape"
   ]
  },
  {
   "cell_type": "code",
   "execution_count": 30,
   "metadata": {
    "execution": {
     "iopub.execute_input": "2022-06-06T12:45:44.400997Z",
     "iopub.status.busy": "2022-06-06T12:45:44.400520Z",
     "iopub.status.idle": "2022-06-06T12:45:44.405532Z",
     "shell.execute_reply": "2022-06-06T12:45:44.404730Z",
     "shell.execute_reply.started": "2022-06-06T12:45:44.400940Z"
    }
   },
   "outputs": [],
   "source": [
    "extra_train_columns = [c for c in extra_train.columns if c not in ['first_active_month', 'outliers', 'target','test']]"
   ]
  },
  {
   "cell_type": "code",
   "execution_count": 31,
   "metadata": {
    "execution": {
     "iopub.execute_input": "2022-06-06T12:45:44.406935Z",
     "iopub.status.busy": "2022-06-06T12:45:44.406472Z",
     "iopub.status.idle": "2022-06-06T12:45:44.423363Z",
     "shell.execute_reply": "2022-06-06T12:45:44.422677Z",
     "shell.execute_reply.started": "2022-06-06T12:45:44.406896Z"
    }
   },
   "outputs": [
    {
     "data": {
      "text/plain": [
       "(2207, 4)"
      ]
     },
     "execution_count": 31,
     "metadata": {},
     "output_type": "execute_result"
    }
   ],
   "source": [
    "extra_train[extra_train_columns].shape"
   ]
  },
  {
   "cell_type": "code",
   "execution_count": 32,
   "metadata": {
    "execution": {
     "iopub.execute_input": "2022-06-06T12:45:44.425175Z",
     "iopub.status.busy": "2022-06-06T12:45:44.424929Z",
     "iopub.status.idle": "2022-06-06T12:45:44.445408Z",
     "shell.execute_reply": "2022-06-06T12:45:44.444394Z",
     "shell.execute_reply.started": "2022-06-06T12:45:44.425130Z"
    }
   },
   "outputs": [
    {
     "data": {
      "text/html": [
       "<div>\n",
       "<style scoped>\n",
       "    .dataframe tbody tr th:only-of-type {\n",
       "        vertical-align: middle;\n",
       "    }\n",
       "\n",
       "    .dataframe tbody tr th {\n",
       "        vertical-align: top;\n",
       "    }\n",
       "\n",
       "    .dataframe thead th {\n",
       "        text-align: right;\n",
       "    }\n",
       "</style>\n",
       "<table border=\"1\" class=\"dataframe\">\n",
       "  <thead>\n",
       "    <tr style=\"text-align: right;\">\n",
       "      <th></th>\n",
       "      <th>card_id</th>\n",
       "      <th>feature_1</th>\n",
       "      <th>feature_2</th>\n",
       "      <th>feature_3</th>\n",
       "    </tr>\n",
       "  </thead>\n",
       "  <tbody>\n",
       "    <tr>\n",
       "      <th>64</th>\n",
       "      <td>C_ID_8186f3fcc1</td>\n",
       "      <td>3</td>\n",
       "      <td>1</td>\n",
       "      <td>1</td>\n",
       "    </tr>\n",
       "    <tr>\n",
       "      <th>92</th>\n",
       "      <td>C_ID_b9379a30ea</td>\n",
       "      <td>3</td>\n",
       "      <td>3</td>\n",
       "      <td>1</td>\n",
       "    </tr>\n",
       "    <tr>\n",
       "      <th>125</th>\n",
       "      <td>C_ID_e9120f535c</td>\n",
       "      <td>3</td>\n",
       "      <td>3</td>\n",
       "      <td>1</td>\n",
       "    </tr>\n",
       "    <tr>\n",
       "      <th>151</th>\n",
       "      <td>C_ID_65715cb80d</td>\n",
       "      <td>4</td>\n",
       "      <td>2</td>\n",
       "      <td>0</td>\n",
       "    </tr>\n",
       "    <tr>\n",
       "      <th>225</th>\n",
       "      <td>C_ID_ae77d244b6</td>\n",
       "      <td>2</td>\n",
       "      <td>1</td>\n",
       "      <td>0</td>\n",
       "    </tr>\n",
       "  </tbody>\n",
       "</table>\n",
       "</div>"
      ],
      "text/plain": [
       "             card_id  feature_1  feature_2  feature_3\n",
       "64   C_ID_8186f3fcc1          3          1          1\n",
       "92   C_ID_b9379a30ea          3          3          1\n",
       "125  C_ID_e9120f535c          3          3          1\n",
       "151  C_ID_65715cb80d          4          2          0\n",
       "225  C_ID_ae77d244b6          2          1          0"
      ]
     },
     "execution_count": 32,
     "metadata": {},
     "output_type": "execute_result"
    }
   ],
   "source": [
    "extra_train[extra_train_columns].head()"
   ]
  },
  {
   "cell_type": "code",
   "execution_count": 33,
   "metadata": {
    "execution": {
     "iopub.execute_input": "2022-06-06T12:45:44.446972Z",
     "iopub.status.busy": "2022-06-06T12:45:44.446698Z",
     "iopub.status.idle": "2022-06-06T12:45:44.559906Z",
     "shell.execute_reply": "2022-06-06T12:45:44.558702Z",
     "shell.execute_reply.started": "2022-06-06T12:45:44.446924Z"
    }
   },
   "outputs": [
    {
     "data": {
      "text/plain": [
       "(201917, 52)"
      ]
     },
     "execution_count": 33,
     "metadata": {},
     "output_type": "execute_result"
    }
   ],
   "source": [
    "fed_60_v = pd.concat([df_train[df_train_columns_60],extra_train[extra_train_columns]])\n",
    "fed_60_v.shape"
   ]
  },
  {
   "cell_type": "code",
   "execution_count": 34,
   "metadata": {
    "execution": {
     "iopub.execute_input": "2022-06-06T12:45:44.561946Z",
     "iopub.status.busy": "2022-06-06T12:45:44.561556Z",
     "iopub.status.idle": "2022-06-06T12:45:48.044686Z",
     "shell.execute_reply": "2022-06-06T12:45:48.043499Z",
     "shell.execute_reply.started": "2022-06-06T12:45:44.561872Z"
    }
   },
   "outputs": [],
   "source": [
    "fed_60_v_test = fed_60_v[fed_60_v['test']==1]\n",
    "fed_60_v_test = fed_60_v_test.drop(['test'],axis=1)\n",
    "fed_60_v_test.to_csv('elo-ETL-data-60-vertical-test.csv')\n",
    "for i,each in enumerate([c for c in df_train_columns_60 if c not in ['card_id','target']]):\n",
    "    #print(i)\n",
    "    fed_60_v_test.rename(columns={each:f'x{i}'},inplace=True)\n",
    "    \n",
    "#fed_60_v_test.to_csv('elo-ETL-data-60-vertical-test-x.csv')"
   ]
  },
  {
   "cell_type": "code",
   "execution_count": 35,
   "metadata": {
    "execution": {
     "iopub.execute_input": "2022-06-06T12:45:48.046683Z",
     "iopub.status.busy": "2022-06-06T12:45:48.046310Z",
     "iopub.status.idle": "2022-06-06T12:45:48.054072Z",
     "shell.execute_reply": "2022-06-06T12:45:48.053046Z",
     "shell.execute_reply.started": "2022-06-06T12:45:48.046605Z"
    }
   },
   "outputs": [
    {
     "data": {
      "text/plain": [
       "(19971, 51)"
      ]
     },
     "execution_count": 35,
     "metadata": {},
     "output_type": "execute_result"
    }
   ],
   "source": [
    "fed_60_v_test.shape"
   ]
  },
  {
   "cell_type": "code",
   "execution_count": 36,
   "metadata": {
    "execution": {
     "iopub.execute_input": "2022-06-06T12:45:48.056609Z",
     "iopub.status.busy": "2022-06-06T12:45:48.055935Z",
     "iopub.status.idle": "2022-06-06T12:46:19.930067Z",
     "shell.execute_reply": "2022-06-06T12:46:19.929362Z",
     "shell.execute_reply.started": "2022-06-06T12:45:48.056545Z"
    }
   },
   "outputs": [],
   "source": [
    "fed_60_v_train = fed_60_v[fed_60_v['test']!=1]\n",
    "fed_60_v_train = fed_60_v_train.drop(['test'],axis=1)\n",
    "fed_60_v_train.to_csv('elo-ETL-data-60-vertical-train.csv')\n",
    "for i,each in enumerate([c for c in df_train_columns_60 if c not in ['card_id','target']]):\n",
    "    #print(i)\n",
    "    fed_60_v_train.rename(columns={each:f'x{i}'},inplace=True)\n",
    "    \n",
    "#fed_60_v_train.to_csv('elo-ETL-data-60-vertical-train-x.csv')"
   ]
  },
  {
   "cell_type": "code",
   "execution_count": 37,
   "metadata": {
    "execution": {
     "iopub.execute_input": "2022-06-06T12:46:19.931787Z",
     "iopub.status.busy": "2022-06-06T12:46:19.931341Z",
     "iopub.status.idle": "2022-06-06T12:46:19.937179Z",
     "shell.execute_reply": "2022-06-06T12:46:19.936362Z",
     "shell.execute_reply.started": "2022-06-06T12:46:19.931744Z"
    }
   },
   "outputs": [
    {
     "data": {
      "text/plain": [
       "(181946, 51)"
      ]
     },
     "execution_count": 37,
     "metadata": {},
     "output_type": "execute_result"
    }
   ],
   "source": [
    "fed_60_v_train.shape"
   ]
  },
  {
   "cell_type": "code",
   "execution_count": 38,
   "metadata": {
    "execution": {
     "iopub.execute_input": "2022-06-06T12:46:19.938619Z",
     "iopub.status.busy": "2022-06-06T12:46:19.938360Z",
     "iopub.status.idle": "2022-06-06T12:46:22.609520Z",
     "shell.execute_reply": "2022-06-06T12:46:22.608750Z",
     "shell.execute_reply.started": "2022-06-06T12:46:19.938567Z"
    }
   },
   "outputs": [],
   "source": [
    "fed_40_v = df_train[df_train_columns_40]\n",
    "fed_40_v_test = fed_40_v[fed_40_v['test']==1]\n",
    "fed_40_v_test = fed_40_v_test.drop(['test'],axis=1)\n",
    "fed_40_v_test.to_csv('elo-ETL-data-40-vertical-test.csv')\n",
    "for i,each in enumerate([c for c in df_train_columns_40 if c not in ['card_id','target']]):\n",
    "    #print(i)\n",
    "    fed_40_v_test.rename(columns={each:f'x{i}'},inplace=True)\n",
    "    \n",
    "#fed_40_v_test.to_csv('elo-ETL-data-40-vertical-test-x.csv')"
   ]
  },
  {
   "cell_type": "code",
   "execution_count": 39,
   "metadata": {
    "execution": {
     "iopub.execute_input": "2022-06-06T12:46:22.611251Z",
     "iopub.status.busy": "2022-06-06T12:46:22.610754Z",
     "iopub.status.idle": "2022-06-06T12:46:22.617404Z",
     "shell.execute_reply": "2022-06-06T12:46:22.616595Z",
     "shell.execute_reply.started": "2022-06-06T12:46:22.611185Z"
    }
   },
   "outputs": [
    {
     "data": {
      "text/plain": [
       "(19971, 35)"
      ]
     },
     "execution_count": 39,
     "metadata": {},
     "output_type": "execute_result"
    }
   ],
   "source": [
    "fed_40_v_test.shape"
   ]
  },
  {
   "cell_type": "code",
   "execution_count": 40,
   "metadata": {
    "execution": {
     "iopub.execute_input": "2022-06-06T12:46:22.619446Z",
     "iopub.status.busy": "2022-06-06T12:46:22.618938Z",
     "iopub.status.idle": "2022-06-06T12:46:46.730609Z",
     "shell.execute_reply": "2022-06-06T12:46:46.729765Z",
     "shell.execute_reply.started": "2022-06-06T12:46:22.619219Z"
    }
   },
   "outputs": [],
   "source": [
    "fed_40_v_train = fed_40_v[fed_40_v['test']!=1]\n",
    "fed_40_v_train = fed_40_v_train.drop(['test'],axis=1)\n",
    "fed_40_v_train.to_csv('elo-ETL-data-40-vertical-train.csv')\n",
    "for i,each in enumerate([c for c in df_train_columns_40 if c not in ['card_id','target']]):\n",
    "    #print(i)\n",
    "    fed_40_v_train.rename(columns={each:f'x{i}'},inplace=True)\n",
    "    \n",
    "#fed_40_v_train.to_csv('elo-ETL-data-40-vertical-train-x.csv')"
   ]
  },
  {
   "cell_type": "code",
   "execution_count": 41,
   "metadata": {
    "execution": {
     "iopub.execute_input": "2022-06-06T12:46:46.732595Z",
     "iopub.status.busy": "2022-06-06T12:46:46.732335Z",
     "iopub.status.idle": "2022-06-06T12:46:46.737811Z",
     "shell.execute_reply": "2022-06-06T12:46:46.737137Z",
     "shell.execute_reply.started": "2022-06-06T12:46:46.732543Z"
    }
   },
   "outputs": [
    {
     "data": {
      "text/plain": [
       "(179739, 35)"
      ]
     },
     "execution_count": 41,
     "metadata": {},
     "output_type": "execute_result"
    }
   ],
   "source": [
    "fed_40_v_train.shape"
   ]
  },
  {
   "cell_type": "markdown",
   "metadata": {},
   "source": [
    "<a id=\"3\"></a> <br>\n",
    "## 3- Create Horizontal Federation\n",
    "\n",
    "###### [Go to top](#top)"
   ]
  },
  {
   "cell_type": "code",
   "execution_count": 42,
   "metadata": {
    "execution": {
     "iopub.execute_input": "2022-06-06T12:46:46.739538Z",
     "iopub.status.busy": "2022-06-06T12:46:46.739296Z",
     "iopub.status.idle": "2022-06-06T12:46:46.758302Z",
     "shell.execute_reply": "2022-06-06T12:46:46.757045Z",
     "shell.execute_reply.started": "2022-06-06T12:46:46.739490Z"
    }
   },
   "outputs": [
    {
     "data": {
      "text/plain": [
       "(199710, 86)"
      ]
     },
     "execution_count": 42,
     "metadata": {},
     "output_type": "execute_result"
    }
   ],
   "source": [
    "df_train.shape"
   ]
  },
  {
   "cell_type": "code",
   "execution_count": 43,
   "metadata": {
    "execution": {
     "iopub.execute_input": "2022-06-06T12:46:46.760324Z",
     "iopub.status.busy": "2022-06-06T12:46:46.759786Z",
     "iopub.status.idle": "2022-06-06T12:46:49.890883Z",
     "shell.execute_reply": "2022-06-06T12:46:49.889790Z",
     "shell.execute_reply.started": "2022-06-06T12:46:46.760266Z"
    }
   },
   "outputs": [],
   "source": [
    "df_t = df_train[df_train['test']==1]\n",
    "df_t.drop(['test'],axis=1).to_csv('elo-ETL-data-horizontal-test.csv')"
   ]
  },
  {
   "cell_type": "code",
   "execution_count": 44,
   "metadata": {
    "execution": {
     "iopub.execute_input": "2022-06-06T12:46:49.893009Z",
     "iopub.status.busy": "2022-06-06T12:46:49.892613Z",
     "iopub.status.idle": "2022-06-06T12:46:49.907726Z",
     "shell.execute_reply": "2022-06-06T12:46:49.906998Z",
     "shell.execute_reply.started": "2022-06-06T12:46:49.892935Z"
    }
   },
   "outputs": [
    {
     "data": {
      "text/plain": [
       "(19971, 85)"
      ]
     },
     "execution_count": 44,
     "metadata": {},
     "output_type": "execute_result"
    }
   ],
   "source": [
    "df_t.drop(['test'],axis=1).shape"
   ]
  },
  {
   "cell_type": "code",
   "execution_count": 45,
   "metadata": {
    "execution": {
     "iopub.execute_input": "2022-06-06T12:46:49.909595Z",
     "iopub.status.busy": "2022-06-06T12:46:49.909128Z",
     "iopub.status.idle": "2022-06-06T12:46:49.997628Z",
     "shell.execute_reply": "2022-06-06T12:46:49.996879Z",
     "shell.execute_reply.started": "2022-06-06T12:46:49.909541Z"
    }
   },
   "outputs": [],
   "source": [
    "df_train = df_train[df_train['test']!=1].drop(['test'],axis=1)"
   ]
  },
  {
   "cell_type": "code",
   "execution_count": 46,
   "metadata": {
    "execution": {
     "iopub.execute_input": "2022-06-06T12:46:49.999080Z",
     "iopub.status.busy": "2022-06-06T12:46:49.998787Z",
     "iopub.status.idle": "2022-06-06T12:47:06.858381Z",
     "shell.execute_reply": "2022-06-06T12:47:06.857604Z",
     "shell.execute_reply.started": "2022-06-06T12:46:49.999028Z"
    }
   },
   "outputs": [],
   "source": [
    "fed_60_h = df_train.sample(n=round(df_train.shape[0]*0.6), random_state=seed, axis=0)\n",
    "fed_60_h.to_csv('elo-ETL-data-60-horizontal-train.csv')"
   ]
  },
  {
   "cell_type": "code",
   "execution_count": 47,
   "metadata": {
    "execution": {
     "iopub.execute_input": "2022-06-06T12:47:06.860904Z",
     "iopub.status.busy": "2022-06-06T12:47:06.860213Z",
     "iopub.status.idle": "2022-06-06T12:47:06.868461Z",
     "shell.execute_reply": "2022-06-06T12:47:06.867329Z",
     "shell.execute_reply.started": "2022-06-06T12:47:06.860815Z"
    }
   },
   "outputs": [
    {
     "data": {
      "text/plain": [
       "(107843, 85)"
      ]
     },
     "execution_count": 47,
     "metadata": {},
     "output_type": "execute_result"
    }
   ],
   "source": [
    "fed_60_h.shape"
   ]
  },
  {
   "cell_type": "code",
   "execution_count": 48,
   "metadata": {
    "execution": {
     "iopub.execute_input": "2022-06-06T12:47:06.870186Z",
     "iopub.status.busy": "2022-06-06T12:47:06.869926Z",
     "iopub.status.idle": "2022-06-06T12:47:19.875692Z",
     "shell.execute_reply": "2022-06-06T12:47:19.875026Z",
     "shell.execute_reply.started": "2022-06-06T12:47:06.870133Z"
    }
   },
   "outputs": [],
   "source": [
    "fed_40_h = pd.concat([df_train, fed_60_h, fed_60_h]).drop_duplicates(keep=False)  #df1-df2\n",
    "fed_40_h.to_csv('elo-ETL-data-40-horizontal-train.csv')"
   ]
  },
  {
   "cell_type": "code",
   "execution_count": 49,
   "metadata": {
    "execution": {
     "iopub.execute_input": "2022-06-06T12:47:19.877305Z",
     "iopub.status.busy": "2022-06-06T12:47:19.876792Z",
     "iopub.status.idle": "2022-06-06T12:47:19.884157Z",
     "shell.execute_reply": "2022-06-06T12:47:19.882847Z",
     "shell.execute_reply.started": "2022-06-06T12:47:19.877242Z"
    }
   },
   "outputs": [
    {
     "data": {
      "text/plain": [
       "(71896, 85)"
      ]
     },
     "execution_count": 49,
     "metadata": {},
     "output_type": "execute_result"
    }
   ],
   "source": [
    "fed_40_h.shape"
   ]
  },
  {
   "cell_type": "code",
   "execution_count": 50,
   "metadata": {
    "execution": {
     "iopub.execute_input": "2022-06-06T12:47:19.886362Z",
     "iopub.status.busy": "2022-06-06T12:47:19.885999Z",
     "iopub.status.idle": "2022-06-06T12:47:22.689533Z",
     "shell.execute_reply": "2022-06-06T12:47:22.688047Z",
     "shell.execute_reply.started": "2022-06-06T12:47:19.886285Z"
    }
   },
   "outputs": [],
   "source": [
    "for i,each in enumerate([c for c in fed_60_h.columns if c not in ['card_id','target']]):\n",
    "    #print(i)\n",
    "    fed_60_h.rename(columns={each:f'x{i}'},inplace=True)\n",
    "    fed_40_h.rename(columns={each:f'x{i}'},inplace=True)"
   ]
  },
  {
   "cell_type": "code",
   "execution_count": 51,
   "metadata": {
    "execution": {
     "iopub.execute_input": "2022-06-06T12:47:22.691175Z",
     "iopub.status.busy": "2022-06-06T12:47:22.690924Z",
     "iopub.status.idle": "2022-06-06T12:47:50.739893Z",
     "shell.execute_reply": "2022-06-06T12:47:50.739092Z",
     "shell.execute_reply.started": "2022-06-06T12:47:22.691130Z"
    }
   },
   "outputs": [],
   "source": [
    "#fed_60_h.to_csv('elo-ETL-data-60-horizontal-train-x.csv')\n",
    "#fed_40_h.to_csv('elo-ETL-data-40-horizontal-train-x.csv')"
   ]
  },
  {
   "cell_type": "code",
   "execution_count": 52,
   "metadata": {},
   "outputs": [],
   "source": []
  }
 ],
 "metadata": {
  "kernelspec": {
   "display_name": "Python 3",
   "language": "python",
   "name": "python3"
  },
  "language_info": {
   "codemirror_mode": {
    "name": "ipython",
    "version": 3
   },
   "file_extension": ".py",
   "mimetype": "text/x-python",
   "name": "python",
   "nbconvert_exporter": "python",
   "pygments_lexer": "ipython3",
   "version": "3.6.4"
  }
 },
 "nbformat": 4,
 "nbformat_minor": 4
}
